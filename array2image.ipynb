{
 "cells": [
  {
   "cell_type": "code",
   "execution_count": null,
   "metadata": {},
   "outputs": [],
   "source": [
    "import numpy as np\n",
    "import matplotlib.pyplot as plt\n",
    "\n",
    "# Example 1D array\n",
    "array_1d = np.array(arr)\n",
    "\n",
    "# Reshape to a 2D array (grayscale image)\n",
    "width = 256  # Width of the image\n",
    "height = len(array_1d) // width\n",
    "image = array_1d.reshape((height, width))\n",
    "\n",
    "# Plot grayscale image\n",
    "plt.imshow(image, cmap='gray')\n",
    "plt.axis('off')\n",
    "plt.show()"
   ]
  }
 ],
 "metadata": {
  "language_info": {
   "name": "python"
  }
 },
 "nbformat": 4,
 "nbformat_minor": 2
}
